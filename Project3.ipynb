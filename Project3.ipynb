{
 "cells": [
  {
   "cell_type": "code",
   "execution_count": 1,
   "id": "46e15fc4",
   "metadata": {},
   "outputs": [],
   "source": [
    "# molecule:Benzocain"
   ]
  },
  {
   "cell_type": "code",
   "execution_count": null,
   "id": "d10e61ff",
   "metadata": {},
   "outputs": [],
   "source": [
    "import psi4\n",
    "print (psi4.__dir__) # this is here so I know if psi4 is importing"
   ]
  },
  {
   "cell_type": "code",
   "execution_count": null,
   "id": "83f669bd",
   "metadata": {},
   "outputs": [],
   "source": [
    "import rdkit\n",
    "from rdkit import Chem\n",
    "from rdkit.Chem import AllChem\n",
    "import numpy as np\n",
    "from matplotlib import pyplot as plt\n",
    "import pandas as pd\n",
    "import nglview"
   ]
  },
  {
   "cell_type": "code",
   "execution_count": null,
   "id": "7a84eff5",
   "metadata": {},
   "outputs": [],
   "source": [
    "#2D structure generation\n",
    "\n",
    "benzocain = Chem.MolFromSmiles('O=C(OCC)c1ccc(N)cc1')\n",
    "benzocain = rdkit.Chem.AddHs(benzocain)\n",
    "benzocain"
   ]
  },
  {
   "cell_type": "code",
   "execution_count": null,
   "id": "c51e6a0b",
   "metadata": {},
   "outputs": [],
   "source": [
    "#import experimental structure\n",
    "\n",
    "AllChem.EmbedMolecule(benzocain)\n",
    "exp_benzocain = Chem.MolFromMol2File('benzocain.mol2', removeHs=False)\n",
    "nglview.show_rdkit(exp_benzocain)\n",
    "#print(exp_benzocain) #just to make sure it's not a none type"
   ]
  },
  {
   "cell_type": "code",
   "execution_count": null,
   "id": "fa66bf11",
   "metadata": {},
   "outputs": [],
   "source": [
    "#generate 5 comformers\n",
    "AllChem.EmbedMultipleConfs(benzocain, 5, randomSeed=1000)"
   ]
  },
  {
   "cell_type": "code",
   "execution_count": null,
   "id": "f5926136",
   "metadata": {},
   "outputs": [],
   "source": [
    "#calculate RMSD of each of the 5 conformers\n",
    "#display all 5 generated comformers stacking on experimental structure\n",
    "#not sure why, but the cell has to be run twice to align the generated and the imported structures\n",
    "\n",
    "from IPython.display import display\n",
    "\n",
    "export_data={\n",
    "    \"rmsd_list\":[],\n",
    "    \"energy_list\":[],\n",
    "    \"opt_energy_list\":[],\n",
    "    \"solv_energy_list\":[],\n",
    "    \"opt_molecule_list\":[]\n",
    "    }\n",
    "\n",
    "for ii in range(benzocain.GetNumConformers()):\n",
    "#for ii in range(1):\n",
    "    view = nglview.show_rdkit(benzocain, conf_id=ii)\n",
    "    view.add_component(exp_benzocain)\n",
    "    \n",
    "    rmsd = Chem.rdMolAlign.AlignMol(benzocain, exp_benzocain, ii)\n",
    "    print(f'conformer {ii} has RMSD of {rmsd:0.5f}')\n",
    "    export_data[\"rmsd_list\"].append(rmsd)\n",
    "    \n",
    "    display(view)"
   ]
  },
  {
   "cell_type": "code",
   "execution_count": null,
   "id": "78249259",
   "metadata": {},
   "outputs": [],
   "source": [
    "# calculate energy and optimized energy for the comformers generated\n",
    "\n",
    "psi4.set_memory('5000 MB')\n",
    "psi4.core.set_output_file('benzocain.txt',False)\n",
    "#basis = 'B3LYP/6-31G*'\n",
    "basis = 'HF/3-21G'\n",
    "\n",
    "#for ii in range(benzocain.GetNumConformers()):\n",
    "for ii in range(1):\n",
    "    \n",
    "    benzocain_geo = psi4.geometry(rdkit.Chem.MolToXYZBlock(benzocain, confId = ii))\n",
    "    benzocain_energy = psi4.energy(basis, molecule = benzocain_geo)\n",
    "    #energy_list.append(benzocain_energy)\n",
    "    print(f'The energy for conformer {ii} is {benzocain_energy:0.5f}')\n",
    "    \n",
    "    (opt_energy, opt_wavefunction) = psi4.optimize(basis, molecule = benzocain_geo, return_wfn=True)\n",
    "    #opt_energy_list.append(opt_energy)\n",
    "    print(f'conformer {ii} has optimized energy of {opt_energy:0.5f}')\n",
    "    \n",
    "    export_data[\"opt_molecule_list\"].append(opt_wavefunction.molecule())\n",
    "    export_data[\"energy_list\"].append(benzocain_energy)\n",
    "    export_data[\"opt_energy_list\"].append(opt_energy)"
   ]
  },
  {
   "cell_type": "code",
   "execution_count": null,
   "id": "e2530995",
   "metadata": {},
   "outputs": [],
   "source": []
  },
  {
   "cell_type": "code",
   "execution_count": null,
   "id": "43e9d389",
   "metadata": {},
   "outputs": [],
   "source": [
    "# pcm string for solvent energy calculation\n",
    "\n",
    "pcm_string = \"\"\"\n",
    "Units = Angstrom\n",
    "Medium {\n",
    "  SolverType = IEFPCM\n",
    "  Solvent = Benzene\n",
    "}\n",
    "Cavity {\n",
    "  RadiiSet = UFF\n",
    "  Type = GePol\n",
    "  Scaling = False\n",
    "  Area = 0.3\n",
    "  Mode = Implicit\n",
    "}\n",
    "\"\"\"\n",
    "\n",
    "psi4.pcm_helper(pcm_string)\n",
    "psi4.set_options({'pcm':True, 'pcm_scf_type':'total'})"
   ]
  },
  {
   "cell_type": "code",
   "execution_count": null,
   "id": "9d1fe0aa",
   "metadata": {},
   "outputs": [],
   "source": [
    "# energy level in solvent\n",
    "\n",
    "#for ii in range(benzocain.GetNumConformers()):\n",
    "for ii in range(1):\n",
    "    #benzocain_geo = psi4.geometry(rdkit.Chem.MolToXYZBlock(benzocain, confId = ii))\n",
    "    solv_energy = psi4.energy(basis, molecule = export_data[\"opt_molecule_list\"][ii])\n",
    "    print(f'conformer {ii} has energy of {solv_energy:0.5f} in benzene')\n",
    "    \n",
    "    #solv_energy_list.append(solv_energy)\n",
    "    \n",
    "    export_data[\"solv_energy_list\"].append(solv_energy)"
   ]
  },
  {
   "cell_type": "code",
   "execution_count": null,
   "id": "f598929b",
   "metadata": {},
   "outputs": [],
   "source": [
    "#export the lists into a csv\n",
    "\n",
    "out_df = pd.DataFrame(export_data)\n",
    "out_df.to_csv(\"benzocain_B3LYP631G.csv\")"
   ]
  },
  {
   "cell_type": "code",
   "execution_count": null,
   "id": "bd98e1ae",
   "metadata": {},
   "outputs": [],
   "source": [
    "#sort dataframe to find out the lowest energy of interest\n",
    "\n",
    "df = pd.read_csv('benzocain_B3LYP631G.csv')\n",
    "df_opt = df.sort_values(by='opt_energy_list')\n",
    "print(df_energy.head(1))\n",
    "\n",
    "df_sol_opt = df.sort_values(by='solv_energy_list')\n",
    "print(df_sol_opt.head(1))\n",
    "\n",
    "df_rmsd = df.sort_values(by='rmsd_list')\n",
    "print(df_rmsd.head(1))\n",
    "\n",
    "#conformer 1 has the lowest optimized energy, and conformer 0 has the lowest energy in benzene\n",
    "#neither comforer 1 or 0 has the highest structural agreement with the experimental structure\n",
    "#conformer 2 has the highest agreement with the experimental structure (smallest RMSD)\n",
    "#although conformer 2 has the 2nd highest optimized energy, and the highest optimized energy in benzene"
   ]
  },
  {
   "cell_type": "code",
   "execution_count": null,
   "id": "3dace0ba",
   "metadata": {},
   "outputs": [],
   "source": []
  }
 ],
 "metadata": {
  "kernelspec": {
   "display_name": "Python 3 (ipykernel)",
   "language": "python",
   "name": "python3"
  },
  "language_info": {
   "codemirror_mode": {
    "name": "ipython",
    "version": 3
   },
   "file_extension": ".py",
   "mimetype": "text/x-python",
   "name": "python",
   "nbconvert_exporter": "python",
   "pygments_lexer": "ipython3",
   "version": "3.7.12"
  }
 },
 "nbformat": 4,
 "nbformat_minor": 5
}
